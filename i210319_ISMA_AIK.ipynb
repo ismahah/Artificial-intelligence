{
 "cells": [
  {
   "cell_type": "code",
   "execution_count": 2,
   "id": "9d962900",
   "metadata": {},
   "outputs": [],
   "source": [
    "import pandas as pd"
   ]
  },
  {
   "cell_type": "code",
   "execution_count": 3,
   "id": "242a45bb",
   "metadata": {},
   "outputs": [],
   "source": [
    "import numpy as np"
   ]
  },
  {
   "cell_type": "code",
   "execution_count": 4,
   "id": "c29fd28f",
   "metadata": {},
   "outputs": [],
   "source": [
    "import csv"
   ]
  },
  {
   "cell_type": "code",
   "execution_count": 5,
   "id": "20f73273",
   "metadata": {},
   "outputs": [
    {
     "data": {
      "text/plain": [
       "['Outlook', 'Temperature', 'Humidity', 'Wind', 'Play Tennis']"
      ]
     },
     "execution_count": 5,
     "metadata": {},
     "output_type": "execute_result"
    }
   ],
   "source": [
    "with open(\"Downloads\\PlayTennis.csv\", 'r') as file:\n",
    "    csvreader = csv.reader(file)\n",
    "    l = []\n",
    "    s = []\n",
    "    for row in csvreader:\n",
    "        l = row\n",
    "        s.append(l)\n",
    "        \n",
    "i = 0\n",
    "s[i]"
   ]
  },
  {
   "cell_type": "code",
   "execution_count": 6,
   "id": "5a9fa96e",
   "metadata": {},
   "outputs": [],
   "source": [
    "df = pd.DataFrame(s, columns = ['Outlook', 'Temperature', 'Humidity', 'Wind', 'Play Tennis'])"
   ]
  },
  {
   "cell_type": "code",
   "execution_count": 7,
   "id": "e1920763",
   "metadata": {},
   "outputs": [
    {
     "data": {
      "text/html": [
       "<div>\n",
       "<style scoped>\n",
       "    .dataframe tbody tr th:only-of-type {\n",
       "        vertical-align: middle;\n",
       "    }\n",
       "\n",
       "    .dataframe tbody tr th {\n",
       "        vertical-align: top;\n",
       "    }\n",
       "\n",
       "    .dataframe thead th {\n",
       "        text-align: right;\n",
       "    }\n",
       "</style>\n",
       "<table border=\"1\" class=\"dataframe\">\n",
       "  <thead>\n",
       "    <tr style=\"text-align: right;\">\n",
       "      <th></th>\n",
       "      <th>Outlook</th>\n",
       "      <th>Temperature</th>\n",
       "      <th>Humidity</th>\n",
       "      <th>Wind</th>\n",
       "      <th>Play Tennis</th>\n",
       "    </tr>\n",
       "  </thead>\n",
       "  <tbody>\n",
       "    <tr>\n",
       "      <th>1</th>\n",
       "      <td>Sunny</td>\n",
       "      <td>Hot</td>\n",
       "      <td>High</td>\n",
       "      <td>Weak</td>\n",
       "      <td>No</td>\n",
       "    </tr>\n",
       "    <tr>\n",
       "      <th>2</th>\n",
       "      <td>Sunny</td>\n",
       "      <td>Hot</td>\n",
       "      <td>High</td>\n",
       "      <td>Strong</td>\n",
       "      <td>No</td>\n",
       "    </tr>\n",
       "    <tr>\n",
       "      <th>3</th>\n",
       "      <td>Overcast</td>\n",
       "      <td>Hot</td>\n",
       "      <td>High</td>\n",
       "      <td>Weak</td>\n",
       "      <td>Yes</td>\n",
       "    </tr>\n",
       "    <tr>\n",
       "      <th>4</th>\n",
       "      <td>Rain</td>\n",
       "      <td>Mild</td>\n",
       "      <td>High</td>\n",
       "      <td>Weak</td>\n",
       "      <td>Yes</td>\n",
       "    </tr>\n",
       "    <tr>\n",
       "      <th>5</th>\n",
       "      <td>Rain</td>\n",
       "      <td>Cool</td>\n",
       "      <td>Normal</td>\n",
       "      <td>Weak</td>\n",
       "      <td>Yes</td>\n",
       "    </tr>\n",
       "    <tr>\n",
       "      <th>6</th>\n",
       "      <td>Rain</td>\n",
       "      <td>Cool</td>\n",
       "      <td>Normal</td>\n",
       "      <td>Strong</td>\n",
       "      <td>No</td>\n",
       "    </tr>\n",
       "    <tr>\n",
       "      <th>7</th>\n",
       "      <td>Overcast</td>\n",
       "      <td>Cool</td>\n",
       "      <td>Normal</td>\n",
       "      <td>Strong</td>\n",
       "      <td>Yes</td>\n",
       "    </tr>\n",
       "    <tr>\n",
       "      <th>8</th>\n",
       "      <td>Sunny</td>\n",
       "      <td>Mild</td>\n",
       "      <td>High</td>\n",
       "      <td>Weak</td>\n",
       "      <td>No</td>\n",
       "    </tr>\n",
       "    <tr>\n",
       "      <th>9</th>\n",
       "      <td>Sunny</td>\n",
       "      <td>Cool</td>\n",
       "      <td>Normal</td>\n",
       "      <td>Weak</td>\n",
       "      <td>Yes</td>\n",
       "    </tr>\n",
       "    <tr>\n",
       "      <th>10</th>\n",
       "      <td>Rain</td>\n",
       "      <td>Mild</td>\n",
       "      <td>Normal</td>\n",
       "      <td>Weak</td>\n",
       "      <td>Yes</td>\n",
       "    </tr>\n",
       "    <tr>\n",
       "      <th>11</th>\n",
       "      <td>Sunny</td>\n",
       "      <td>Mild</td>\n",
       "      <td>Normal</td>\n",
       "      <td>Strong</td>\n",
       "      <td>Yes</td>\n",
       "    </tr>\n",
       "    <tr>\n",
       "      <th>12</th>\n",
       "      <td>Overcast</td>\n",
       "      <td>Mild</td>\n",
       "      <td>High</td>\n",
       "      <td>Strong</td>\n",
       "      <td>Yes</td>\n",
       "    </tr>\n",
       "    <tr>\n",
       "      <th>13</th>\n",
       "      <td>Overcast</td>\n",
       "      <td>Hot</td>\n",
       "      <td>Normal</td>\n",
       "      <td>Weak</td>\n",
       "      <td>Yes</td>\n",
       "    </tr>\n",
       "    <tr>\n",
       "      <th>14</th>\n",
       "      <td>Rain</td>\n",
       "      <td>Mild</td>\n",
       "      <td>High</td>\n",
       "      <td>Strong</td>\n",
       "      <td>No</td>\n",
       "    </tr>\n",
       "  </tbody>\n",
       "</table>\n",
       "</div>"
      ],
      "text/plain": [
       "     Outlook Temperature Humidity    Wind Play Tennis\n",
       "1      Sunny         Hot     High    Weak          No\n",
       "2      Sunny         Hot     High  Strong          No\n",
       "3   Overcast         Hot     High    Weak         Yes\n",
       "4       Rain        Mild     High    Weak         Yes\n",
       "5       Rain        Cool   Normal    Weak         Yes\n",
       "6       Rain        Cool   Normal  Strong          No\n",
       "7   Overcast        Cool   Normal  Strong         Yes\n",
       "8      Sunny        Mild     High    Weak          No\n",
       "9      Sunny        Cool   Normal    Weak         Yes\n",
       "10      Rain        Mild   Normal    Weak         Yes\n",
       "11     Sunny        Mild   Normal  Strong         Yes\n",
       "12  Overcast        Mild     High  Strong         Yes\n",
       "13  Overcast         Hot   Normal    Weak         Yes\n",
       "14      Rain        Mild     High  Strong          No"
      ]
     },
     "execution_count": 7,
     "metadata": {},
     "output_type": "execute_result"
    }
   ],
   "source": [
    "df1 = pd.DataFrame()\n",
    "df1 = df.iloc[1:]\n",
    "df1"
   ]
  },
  {
   "cell_type": "code",
   "execution_count": 8,
   "id": "2d577450",
   "metadata": {},
   "outputs": [
    {
     "name": "stdout",
     "output_type": "stream",
     "text": [
      "5\n",
      "9\n"
     ]
    }
   ],
   "source": [
    "n = 0\n",
    "y = 0\n",
    "for i in df['Play Tennis']:\n",
    "    if(i=='No'):\n",
    "        n = n+1\n",
    "    elif(i=='Yes'):\n",
    "        y = y+1\n",
    "print(n)\n",
    "print(y)"
   ]
  },
  {
   "cell_type": "code",
   "execution_count": 9,
   "id": "52334e19",
   "metadata": {},
   "outputs": [
    {
     "name": "stdout",
     "output_type": "stream",
     "text": [
      "0.35714285714285715\n",
      "0.6428571428571429\n"
     ]
    }
   ],
   "source": [
    "no_p = n/14\n",
    "yes_p = y/14\n",
    "print(no_p)\n",
    "print(yes_p)"
   ]
  },
  {
   "cell_type": "code",
   "execution_count": 10,
   "id": "fb7d27bc",
   "metadata": {},
   "outputs": [
    {
     "ename": "SyntaxError",
     "evalue": "invalid syntax (3996493703.py, line 1)",
     "output_type": "error",
     "traceback": [
      "\u001b[1;36m  Input \u001b[1;32mIn [10]\u001b[1;36m\u001b[0m\n\u001b[1;33m    for i in\u001b[0m\n\u001b[1;37m             ^\u001b[0m\n\u001b[1;31mSyntaxError\u001b[0m\u001b[1;31m:\u001b[0m invalid syntax\n"
     ]
    }
   ],
   "source": [
    "for i in "
   ]
  },
  {
   "cell_type": "code",
   "execution_count": 11,
   "id": "539f2c93",
   "metadata": {},
   "outputs": [],
   "source": [
    "sunny_no =0\n",
    "sunny_yes = 0\n",
    "overcast_no = 0\n",
    "overcast_yes = 0\n",
    "rain_no = 0\n",
    "rain_yes = 0\n",
    "hot_no = 0\n",
    "hot_yes = 0\n",
    "mild_no = 0\n",
    "mild_yes = 0\n",
    "cold_no = 0\n",
    "cold_yes = 0\n",
    "high_no = 0\n",
    "high_yes = 0\n",
    "normal_no = 0\n",
    "normal_yes = 0\n",
    "weak_no = 0\n",
    "weak_yes = 0\n",
    "\n",
    "dic = {\n",
    "    \"outlook\": [\"Sunny\", \"Rain\", \"Overcast\"],\n",
    "    \"Temperature\": [\"Hot\", \"Mild\", \"Cold\"],\n",
    "    \"Humidity\": [\"High\", \"Normal\"],\n",
    "    \"Wind\": [\"Weak\", \"Strong\"]\n",
    "}\n"
   ]
  },
  {
   "cell_type": "code",
   "execution_count": 12,
   "id": "9dc4c170",
   "metadata": {},
   "outputs": [],
   "source": [
    "column_names = df1.columns.tolist()\n",
    "outlook = df1[\"Outlook\"].unique()\n",
    "Temperature = df1[\"Temperature\"].unique()\n",
    "Humidity = df1[\"Humidity\"].unique()\n",
    "Wind = df1[\"Wind\"].unique()   "
   ]
  },
  {
   "cell_type": "code",
   "execution_count": 83,
   "id": "d0aec2c3",
   "metadata": {},
   "outputs": [
    {
     "name": "stdout",
     "output_type": "stream",
     "text": [
      "Column: Outlook, Value: Sunny, Prob_Yes: 0.2222222222222222, Prob_No: 0.6\n",
      "Column: Outlook, Value: Overcast, Prob_Yes: 0.4444444444444444, Prob_No: 0.0\n",
      "Column: Outlook, Value: Rain, Prob_Yes: 0.3333333333333333, Prob_No: 0.4\n",
      "Column: Temperature, Value: Hot, Prob_Yes: 0.2222222222222222, Prob_No: 0.4\n",
      "Column: Temperature, Value: Mild, Prob_Yes: 0.4444444444444444, Prob_No: 0.4\n",
      "Column: Temperature, Value: Cool, Prob_Yes: 0.3333333333333333, Prob_No: 0.2\n",
      "Column: Humidity, Value: High, Prob_Yes: 0.3333333333333333, Prob_No: 0.8\n",
      "Column: Humidity, Value: Normal, Prob_Yes: 0.6666666666666666, Prob_No: 0.2\n",
      "Column: Wind, Value: Weak, Prob_Yes: 0.6666666666666666, Prob_No: 0.4\n",
      "Column: Wind, Value: Strong, Prob_Yes: 0.3333333333333333, Prob_No: 0.6\n",
      "Column: Play Tennis, Value: No, Prob_Yes: 0.0, Prob_No: 1.0\n",
      "Column: Play Tennis, Value: Yes, Prob_Yes: 1.0, Prob_No: 0.0\n"
     ]
    }
   ],
   "source": [
    "def outlook_yesno(dataframe, k, i):\n",
    "    yes = len(dataframe[(dataframe[k] == i) & (dataframe['Play Tennis'] == 'Yes')])\n",
    "    prob_yes = yes / y\n",
    "    no = len(dataframe[(dataframe[k] == i) & (dataframe['Play Tennis'] == 'No')])\n",
    "    prob_no = no / n\n",
    "    \n",
    "    return prob_yes, prob_no\n",
    "\n",
    "prob = []\n",
    "for i in df1.columns:\n",
    "    distinct_values = df1[i].unique()\n",
    "    for j in distinct_values:\n",
    "        prob_yes, prob_no = outlook_yesno(df,i,j)\n",
    "        prob.append((i, j, prob_yes, prob_no))\n",
    "\n",
    "# Print the list of probabilities\n",
    "for item in prob:\n",
    "    print(f\"Column: {item[0]}, Value: {item[1]}, Prob_Yes: {item[2]}, Prob_No: {item[3]}\")"
   ]
  },
  {
   "cell_type": "code",
   "execution_count": 61,
   "id": "f4b7a578",
   "metadata": {},
   "outputs": [],
   "source": [
    "df2 = pd.DataFrame(prob, columns = [\"ok\",\"conditions\", \"yes\", \"no\"])"
   ]
  },
  {
   "cell_type": "code",
   "execution_count": 62,
   "id": "a31d81f0",
   "metadata": {},
   "outputs": [],
   "source": [
    "df2 = df2.drop(df2.columns[0], axis=1)"
   ]
  },
  {
   "cell_type": "code",
   "execution_count": 63,
   "id": "c389d530",
   "metadata": {},
   "outputs": [],
   "source": [
    "df2 = df2.drop(df2.index[-2:], axis=0, )"
   ]
  },
  {
   "cell_type": "code",
   "execution_count": 64,
   "id": "5ca69713",
   "metadata": {},
   "outputs": [
    {
     "data": {
      "text/html": [
       "<div>\n",
       "<style scoped>\n",
       "    .dataframe tbody tr th:only-of-type {\n",
       "        vertical-align: middle;\n",
       "    }\n",
       "\n",
       "    .dataframe tbody tr th {\n",
       "        vertical-align: top;\n",
       "    }\n",
       "\n",
       "    .dataframe thead th {\n",
       "        text-align: right;\n",
       "    }\n",
       "</style>\n",
       "<table border=\"1\" class=\"dataframe\">\n",
       "  <thead>\n",
       "    <tr style=\"text-align: right;\">\n",
       "      <th></th>\n",
       "      <th>conditions</th>\n",
       "      <th>yes</th>\n",
       "      <th>no</th>\n",
       "    </tr>\n",
       "  </thead>\n",
       "  <tbody>\n",
       "    <tr>\n",
       "      <th>0</th>\n",
       "      <td>Sunny</td>\n",
       "      <td>0.222222</td>\n",
       "      <td>0.6</td>\n",
       "    </tr>\n",
       "    <tr>\n",
       "      <th>1</th>\n",
       "      <td>Overcast</td>\n",
       "      <td>0.444444</td>\n",
       "      <td>0.0</td>\n",
       "    </tr>\n",
       "    <tr>\n",
       "      <th>2</th>\n",
       "      <td>Rain</td>\n",
       "      <td>0.333333</td>\n",
       "      <td>0.4</td>\n",
       "    </tr>\n",
       "    <tr>\n",
       "      <th>3</th>\n",
       "      <td>Hot</td>\n",
       "      <td>0.222222</td>\n",
       "      <td>0.4</td>\n",
       "    </tr>\n",
       "    <tr>\n",
       "      <th>4</th>\n",
       "      <td>Mild</td>\n",
       "      <td>0.444444</td>\n",
       "      <td>0.4</td>\n",
       "    </tr>\n",
       "    <tr>\n",
       "      <th>5</th>\n",
       "      <td>Cool</td>\n",
       "      <td>0.333333</td>\n",
       "      <td>0.2</td>\n",
       "    </tr>\n",
       "    <tr>\n",
       "      <th>6</th>\n",
       "      <td>High</td>\n",
       "      <td>0.333333</td>\n",
       "      <td>0.8</td>\n",
       "    </tr>\n",
       "    <tr>\n",
       "      <th>7</th>\n",
       "      <td>Normal</td>\n",
       "      <td>0.666667</td>\n",
       "      <td>0.2</td>\n",
       "    </tr>\n",
       "    <tr>\n",
       "      <th>8</th>\n",
       "      <td>Weak</td>\n",
       "      <td>0.666667</td>\n",
       "      <td>0.4</td>\n",
       "    </tr>\n",
       "    <tr>\n",
       "      <th>9</th>\n",
       "      <td>Strong</td>\n",
       "      <td>0.333333</td>\n",
       "      <td>0.6</td>\n",
       "    </tr>\n",
       "  </tbody>\n",
       "</table>\n",
       "</div>"
      ],
      "text/plain": [
       "  conditions       yes   no\n",
       "0      Sunny  0.222222  0.6\n",
       "1   Overcast  0.444444  0.0\n",
       "2       Rain  0.333333  0.4\n",
       "3        Hot  0.222222  0.4\n",
       "4       Mild  0.444444  0.4\n",
       "5       Cool  0.333333  0.2\n",
       "6       High  0.333333  0.8\n",
       "7     Normal  0.666667  0.2\n",
       "8       Weak  0.666667  0.4\n",
       "9     Strong  0.333333  0.6"
      ]
     },
     "execution_count": 64,
     "metadata": {},
     "output_type": "execute_result"
    }
   ],
   "source": [
    "df2"
   ]
  },
  {
   "cell_type": "code",
   "execution_count": 65,
   "id": "98a01b81",
   "metadata": {},
   "outputs": [],
   "source": [
    "df3 = df1.drop('Play Tennis',axis=1)\n",
    "l = df3.iloc[0]"
   ]
  },
  {
   "cell_type": "code",
   "execution_count": 76,
   "id": "8bb5d275",
   "metadata": {},
   "outputs": [
    {
     "data": {
      "text/plain": [
       "Outlook        Sunny\n",
       "Temperature      Hot\n",
       "Humidity        High\n",
       "Wind            Weak\n",
       "Name: 1, dtype: object"
      ]
     },
     "execution_count": 76,
     "metadata": {},
     "output_type": "execute_result"
    }
   ],
   "source": [
    "l"
   ]
  },
  {
   "cell_type": "code",
   "execution_count": 78,
   "id": "e48208aa",
   "metadata": {},
   "outputs": [
    {
     "name": "stdout",
     "output_type": "stream",
     "text": [
      "[0.2222222222222222, 0.2222222222222222, 0.3333333333333333, 0.6666666666666666, 9]\n",
      "[0.6, 0.4, 0.8, 0.4, 5]\n"
     ]
    }
   ],
   "source": [
    "prob_yes = []\n",
    "prob_no = []\n",
    "\n",
    "for i in l:\n",
    "    for index, row in df2.iterrows():\n",
    "        if row[\"conditions\"] == i:\n",
    "            prob_yes.append(row[\"yes\"])\n",
    "            prob_no.append(row[\"no\"])\n",
    "            break\n",
    "prob_yes.append(y)\n",
    "prob_no.append(n)\n",
    "print(prob_yes)\n",
    "print(prob_no)\n"
   ]
  },
  {
   "cell_type": "code",
   "execution_count": 44,
   "id": "f722fd41",
   "metadata": {},
   "outputs": [
    {
     "ename": "SyntaxError",
     "evalue": "cannot assign to operator (2330173503.py, line 1)",
     "output_type": "error",
     "traceback": [
      "\u001b[1;36m  Input \u001b[1;32mIn [44]\u001b[1;36m\u001b[0m\n\u001b[1;33m    p(sunny|yes) * p(hot|yes) * p(high|yes) * p(weak|yes) * p(yes) =  0.645 (yes)\u001b[0m\n\u001b[1;37m    ^\u001b[0m\n\u001b[1;31mSyntaxError\u001b[0m\u001b[1;31m:\u001b[0m cannot assign to operator\n"
     ]
    }
   ],
   "source": [
    "p(sunny|yes) * p(hot|yes) * p(high|yes) * p(weak|yes) * p(yes) =  0.645 (yes)\n",
    "p(sunny|no) * p(hot|no) * p(high|no) * p(weak|no) * p(no) =  0.459 (no)"
   ]
  },
  {
   "cell_type": "code",
   "execution_count": 81,
   "id": "1cf0bdee",
   "metadata": {},
   "outputs": [
    {
     "name": "stdout",
     "output_type": "stream",
     "text": [
      "No at  Outlook        Sunny\n",
      "Temperature      Hot\n",
      "Humidity        High\n",
      "Wind            Weak\n",
      "Name: 1, dtype: object\n"
     ]
    }
   ],
   "source": [
    "result = 0\n",
    "result1 = 0\n",
    "for i in prob_yes:\n",
    "    result *= i\n",
    "for i in prob_no:\n",
    "    result1 *= i    \n",
    "if(result > result1):\n",
    "    print(\"Yes at \", l)\n",
    "else:\n",
    "    print(\"No at \", l)"
   ]
  },
  {
   "cell_type": "code",
   "execution_count": null,
   "id": "eaa06ca5",
   "metadata": {},
   "outputs": [],
   "source": []
  }
 ],
 "metadata": {
  "kernelspec": {
   "display_name": "Python 3 (ipykernel)",
   "language": "python",
   "name": "python3"
  },
  "language_info": {
   "codemirror_mode": {
    "name": "ipython",
    "version": 3
   },
   "file_extension": ".py",
   "mimetype": "text/x-python",
   "name": "python",
   "nbconvert_exporter": "python",
   "pygments_lexer": "ipython3",
   "version": "3.9.12"
  }
 },
 "nbformat": 4,
 "nbformat_minor": 5
}
